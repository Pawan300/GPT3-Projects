{
  "nbformat": 4,
  "nbformat_minor": 0,
  "metadata": {
    "colab": {
      "name": "Experiment GPT-3.ipynb",
      "provenance": [],
      "collapsed_sections": []
    },
    "kernelspec": {
      "name": "python3",
      "display_name": "Python 3"
    },
    "language_info": {
      "name": "python"
    }
  },
  "cells": [
    {
      "cell_type": "code",
      "metadata": {
        "colab": {
          "base_uri": "https://localhost:8080/"
        },
        "id": "u_HQAPv-2Gqs",
        "outputId": "88ae1af1-796c-4776-d276-151665f2366b"
      },
      "source": [
        "from google.colab import drive\n",
        "\n",
        "drive.mount('/content/drive')\n"
      ],
      "execution_count": 1,
      "outputs": [
        {
          "output_type": "stream",
          "name": "stdout",
          "text": [
            "Drive already mounted at /content/drive; to attempt to forcibly remount, call drive.mount(\"/content/drive\", force_remount=True).\n"
          ]
        }
      ]
    },
    {
      "cell_type": "code",
      "metadata": {
        "colab": {
          "base_uri": "https://localhost:8080/"
        },
        "id": "76XYULsogGOR",
        "outputId": "1d848098-094c-4381-8c05-c46549dc4032"
      },
      "source": [
        "!pip install openai"
      ],
      "execution_count": 2,
      "outputs": [
        {
          "output_type": "stream",
          "name": "stdout",
          "text": [
            "Requirement already satisfied: openai in /usr/local/lib/python3.7/dist-packages (0.10.5)\n",
            "Requirement already satisfied: tqdm in /usr/local/lib/python3.7/dist-packages (from openai) (4.62.3)\n",
            "Requirement already satisfied: openpyxl>=3.0.7 in /usr/local/lib/python3.7/dist-packages (from openai) (3.0.9)\n",
            "Requirement already satisfied: pandas-stubs>=1.1.0.11 in /usr/local/lib/python3.7/dist-packages (from openai) (1.2.0.33)\n",
            "Requirement already satisfied: pandas>=1.2.3 in /usr/local/lib/python3.7/dist-packages (from openai) (1.3.4)\n",
            "Requirement already satisfied: requests>=2.20 in /usr/local/lib/python3.7/dist-packages (from openai) (2.23.0)\n",
            "Requirement already satisfied: et-xmlfile in /usr/local/lib/python3.7/dist-packages (from openpyxl>=3.0.7->openai) (1.1.0)\n",
            "Requirement already satisfied: numpy>=1.17.3 in /usr/local/lib/python3.7/dist-packages (from pandas>=1.2.3->openai) (1.19.5)\n",
            "Requirement already satisfied: pytz>=2017.3 in /usr/local/lib/python3.7/dist-packages (from pandas>=1.2.3->openai) (2018.9)\n",
            "Requirement already satisfied: python-dateutil>=2.7.3 in /usr/local/lib/python3.7/dist-packages (from pandas>=1.2.3->openai) (2.8.2)\n",
            "Requirement already satisfied: typing-extensions>=3.7.4.3 in /usr/local/lib/python3.7/dist-packages (from pandas-stubs>=1.1.0.11->openai) (3.7.4.3)\n",
            "Requirement already satisfied: six>=1.5 in /usr/local/lib/python3.7/dist-packages (from python-dateutil>=2.7.3->pandas>=1.2.3->openai) (1.15.0)\n",
            "Requirement already satisfied: certifi>=2017.4.17 in /usr/local/lib/python3.7/dist-packages (from requests>=2.20->openai) (2021.5.30)\n",
            "Requirement already satisfied: chardet<4,>=3.0.2 in /usr/local/lib/python3.7/dist-packages (from requests>=2.20->openai) (3.0.4)\n",
            "Requirement already satisfied: idna<3,>=2.5 in /usr/local/lib/python3.7/dist-packages (from requests>=2.20->openai) (2.10)\n",
            "Requirement already satisfied: urllib3!=1.25.0,!=1.25.1,<1.26,>=1.21.1 in /usr/local/lib/python3.7/dist-packages (from requests>=2.20->openai) (1.24.3)\n"
          ]
        }
      ]
    },
    {
      "cell_type": "code",
      "metadata": {
        "colab": {
          "base_uri": "https://localhost:8080/"
        },
        "id": "oLBuHdJJt7I7",
        "outputId": "6842bd64-d999-44be-b803-1d92f104fa03"
      },
      "source": [
        "cd /content/drive/MyDrive/Colab Notebooks/GPT3_demo"
      ],
      "execution_count": 3,
      "outputs": [
        {
          "output_type": "stream",
          "name": "stdout",
          "text": [
            "/content/drive/MyDrive/Colab Notebooks/GPT3_demo\n"
          ]
        }
      ]
    },
    {
      "cell_type": "code",
      "metadata": {
        "id": "9w16_p0Z2oRk"
      },
      "source": [
        "import openai\n",
        "import json\n",
        "from model import GPT"
      ],
      "execution_count": 4,
      "outputs": []
    },
    {
      "cell_type": "code",
      "metadata": {
        "id": "WUrYQA2M2q5C"
      },
      "source": [
        "file = open(\"/content/drive/MyDrive/Colab Notebooks/constant.json\")\n",
        "content = json.load(file)\n",
        "file.close()"
      ],
      "execution_count": 5,
      "outputs": []
    },
    {
      "cell_type": "code",
      "metadata": {
        "id": "sgHGr1ktQBpm"
      },
      "source": [
        "openai.api_key = content[\"openAI-cred\"][\"Key\"]"
      ],
      "execution_count": 6,
      "outputs": []
    },
    {
      "cell_type": "markdown",
      "metadata": {
        "id": "7eLBEhLdRVjs"
      },
      "source": [
        "# SQL creation"
      ]
    },
    {
      "cell_type": "code",
      "metadata": {
        "id": "2ANw4_xg2--c"
      },
      "source": [
        "inputs = [\n",
        "          \"Fetch unique values of DEPARTMENT from Worker table.\",\n",
        "          \"Print the first three characters of FIRST_NAME from Worker table.\",\n",
        "          \"Find the position of the alphabet ('a') in the first name column 'Amitabh' from Worker table.\",\n",
        "          \"Print the FIRST_NAME from Worker table after replacing 'a' with 'A'.\",\n",
        "          ]\n",
        "outputs = [\n",
        "           \"Select distinct DEPARTMENT from Worker;\",\n",
        "           \"Select substring(FIRST_NAME,1,3) from Worker;\",\n",
        "           \"Select INSTR(FIRST_NAME, BINARY'a') from Worker where FIRST_NAME = 'Amitabh';\",\n",
        "           \"Select CONCAT(FIRST_NAME, ' ', LAST_NAME) AS 'COMPLETE_NAME' from Worker;\"\n",
        "           ]\n",
        "examples = list(zip(inputs, outputs))\n",
        "gpt_sql = GPT(engine='davinci')   # loading model\n",
        "for i in examples:\n",
        "  gpt_sql.set_examples([i[0],i[1]])"
      ],
      "execution_count": null,
      "outputs": []
    },
    {
      "cell_type": "code",
      "metadata": {
        "colab": {
          "base_uri": "https://localhost:8080/"
        },
        "id": "fbwiyrcWcoBw",
        "cellView": "form",
        "outputId": "6b7777ea-e739-470a-aea8-7116706d3e32"
      },
      "source": [
        "question =\"Query to find Second Highest Salary of Employee.\" #@param {type:\"string\"}\n",
        "response = gpt_sql.create_response(question)\n",
        "print(response[\"choices\"][0][\"text\"])"
      ],
      "execution_count": null,
      "outputs": [
        {
          "output_type": "stream",
          "name": "stdout",
          "text": [
            "output:Select MAX(SALARY) from EMPLOYEE where DEPARTMENT = 'IT';\n",
            "\n"
          ]
        }
      ]
    },
    {
      "cell_type": "markdown",
      "metadata": {
        "id": "ptzaB1nMRasK"
      },
      "source": [
        "# Mongo creation"
      ]
    },
    {
      "cell_type": "code",
      "metadata": {
        "id": "DzUudmL7CXqT"
      },
      "source": [
        "examples = [\n",
        "            (\"Write a MongoDB query to find the restaurants who achieved a score more than 90.\", \"db.restaurants.find({grades : { $elemMatch:{'score':{$gt : 90}}}})\"),\n",
        "            (\"Write a MongoDB query to display all the documents in the collection restaurants.\", \"db.restaurants.find();\"),\n",
        "            (\"Write a MongoDB query to display the fields restaurant_id, name, borough and cuisine, but exclude the field _id for all the documents in the collection restaurant.\",\"db.restaurants.find({},{'restaurant_id' : 1,'name':1,'borough':1,'cuisine' :1,'_id':0})\"),\n",
        "            (\"Find the restaurants which locate in a latitude value less than -95.754168.\",\"db.restaurants.find({'address.coord' : {$lt : -95.754168}})\"),\n",
        "            (\"Find the restaurant Id, name, borough and cuisine for those restaurants which are not belonging to the borough Staten Island or Queens or Bronxor Brooklyn.\", \"db.restaurants.find({'borough' :{$nin :['Staten Island','Queens','Bronx','Brooklyn']}},{'restaurant_id' : 1,'name':1,'borough':1,'cuisine' :1})\"),\n",
        "            (\"Find the restaurant Id, name, borough and cuisine for those restaurants which contain 'Wil' as first three letters for its name.\",\"db.restaurants.find({name: /^Wil/},{'restaurant_id' : 1,'name':1,'borough':1,'cuisine' :1})\")\n",
        "]\n",
        "gpt_mongo = GPT(engine='davinci')   # loading model\n",
        "for i in examples:\n",
        "  gpt_mongo.set_examples([i[0],i[1]])"
      ],
      "execution_count": null,
      "outputs": []
    },
    {
      "cell_type": "code",
      "metadata": {
        "colab": {
          "base_uri": "https://localhost:8080/"
        },
        "cellView": "form",
        "id": "SjwWhOrmC-3Z",
        "outputId": "e51c2461-34c2-42dc-e18c-d875e5fd8108"
      },
      "source": [
        "question =\"Find all contacts with at least one work phone or hired after 2015-06-04\" #@param {type:\"string\"}\n",
        "response = gpt_mongo.create_response(question)\n",
        "print(response[\"choices\"][0][\"text\"])"
      ],
      "execution_count": null,
      "outputs": [
        {
          "output_type": "stream",
          "name": "stdout",
          "text": [
            "output:db.contacts.find({'hired.at' : {$gte : new Date(2015, 6, 4)}, 'work.phones.length': {$gt : 0}})\n",
            "\n"
          ]
        }
      ]
    },
    {
      "cell_type": "markdown",
      "metadata": {
        "id": "wWuKubNp8Hhh"
      },
      "source": [
        "# Jumble sentence"
      ]
    },
    {
      "cell_type": "code",
      "metadata": {
        "id": "vorlSD-KXJLS"
      },
      "source": [
        "examples = [\n",
        "            (\"work and play / things / different / parents see / as two\", \"Parents see work and play as two different things.\"),\n",
        "            (\"is a / of time / they / waste / think / that playing\", \"They think that playing is a waste of time.\"),\n",
        "            (\"important/games / studies / are as / as\", \"Games are as important as studies.\"),\n",
        "            (\"a student / to both / proper / should / attention / pay\", \"A student should pay attention too both.\")\n",
        "]\n",
        "gpt_jumb = GPT(engine='curie-instruct-beta', max_tokens=64)   # loading model\n",
        "for i in examples:\n",
        "  gpt_jumb.set_examples([i[0],i[1]])"
      ],
      "execution_count": null,
      "outputs": []
    },
    {
      "cell_type": "code",
      "metadata": {
        "colab": {
          "base_uri": "https://localhost:8080/"
        },
        "id": "HpFQSIbCUq1o",
        "outputId": "1d1ad27f-2723-4c0f-9dee-0dea899f3d3a"
      },
      "source": [
        "question = [\n",
        "            \" can./ life / only / succeed / he / in / then\",\n",
        "            \"leave/dishes/I/table/the/don’t/on/dirty\",\n",
        "            \" fire/stopped/in/day/one/the/palace/the/burning\"\n",
        "]\n",
        "for i in question:\n",
        "    print(\"Question :\", i,\"\\n \")\n",
        "    response = gpt_jumb.create_response(i)\n",
        "    print(response[\"choices\"][0][\"text\"])"
      ],
      "execution_count": null,
      "outputs": [
        {
          "output_type": "stream",
          "name": "stdout",
          "text": [
            "Question :  can./ life / only / succeed / he / in / then \n",
            " \n",
            "output:He can only succeed in life if he works hard.\n",
            "Question : leave/dishes/I/table/the/don’t/on/dirty \n",
            " \n",
            "\n",
            "output:I don’t leave dishes on the table.\n",
            "Question :  fire/stopped/in/day/one/the/palace/the/burning \n",
            " \n",
            "\n",
            "output: The fire stopped in the palace the burning one day.\n"
          ]
        }
      ]
    },
    {
      "cell_type": "markdown",
      "metadata": {
        "id": "D0wctDLSC1xh"
      },
      "source": [
        "### not working fine"
      ]
    },
    {
      "cell_type": "markdown",
      "metadata": {
        "id": "5B0TrEoeD_Lz"
      },
      "source": [
        "# CMD command generator"
      ]
    },
    {
      "cell_type": "code",
      "metadata": {
        "id": "WxTJ5M1kEWfX"
      },
      "source": [
        "examples = [\n",
        "            (\"How do I copy a file?\",\"cp filename.txt destination_filename.txt\"),\n",
        "            (\"How do I duplicate a folder?\", \"cp -a foldername/ destination_folder/\"),\n",
        "            (\"How do display a calendar?\", \"cal\"),\n",
        "            (\"How do I find files that contain the word \\\"test\\\"?\", \"grep -i test *\"),\n",
        "            (\"How do I figure out the running programs on my computer?\", \"ps aux\")\n",
        "]\n",
        "\n",
        "gpt_cmd = GPT(engine='curie-instruct-beta', max_tokens=64)   # loading model\n",
        "platform = \"linux\"\n",
        "for i in examples:\n",
        "  gpt_cmd.set_examples([i[0],i[1]])\n"
      ],
      "execution_count": 7,
      "outputs": []
    },
    {
      "cell_type": "code",
      "metadata": {
        "id": "C4TOa4l6ZnYp",
        "colab": {
          "base_uri": "https://localhost:8080/"
        },
        "cellView": "form",
        "outputId": "fe8bde3e-e474-468d-dfb7-def8101ef1b7"
      },
      "source": [
        "question = \"How do I put the computer to sleep?\"  #@param {type: \"string\"}\n",
        "initials = \"I will tell you how to do a \"+platform+\" commands\"\n",
        "\n",
        "response = gpt_cmd.create_response(question, initials)\n",
        "print(response[\"choices\"][0][\"text\"])"
      ],
      "execution_count": 9,
      "outputs": [
        {
          "output_type": "stream",
          "name": "stdout",
          "text": [
            "output:sudo pm-suspend\n",
            "\n"
          ]
        }
      ]
    },
    {
      "cell_type": "markdown",
      "metadata": {
        "id": "rjAlh1a2gNQl"
      },
      "source": [
        "# Synonyms"
      ]
    },
    {
      "cell_type": "code",
      "metadata": {
        "id": "WWSXmhmvEPHB"
      },
      "source": [
        "examples = [\n",
        "            (\"Amazing\",\"astounding, surprising, stunning\"),\n",
        "            (\"Benefit\", \"profit, revenue, yield\"),\n",
        "            (\"Injured\", \"damaged, wounded, harmed\"),\n",
        "            (\"Vacant\", \"empty, deserted, uninhabited\")\n",
        "]\n",
        "gpt_syn = GPT(engine='davinci', max_tokens=64)   # loading model\n",
        "for i in examples:\n",
        "  gpt_syn.set_examples([i[0],i[1]])\n"
      ],
      "execution_count": null,
      "outputs": []
    },
    {
      "cell_type": "code",
      "metadata": {
        "colab": {
          "base_uri": "https://localhost:8080/"
        },
        "cellView": "form",
        "id": "UH4knj7ugMNQ",
        "outputId": "359f24b8-2cf4-432f-84a3-fa1a07a2aedc"
      },
      "source": [
        "question = \"mistake\"  #@param {type: \"string\"}\n",
        "response = gpt_syn.create_response(question)\n",
        "print(response[\"choices\"][0][\"text\"])"
      ],
      "execution_count": null,
      "outputs": [
        {
          "output_type": "stream",
          "name": "stdout",
          "text": [
            "output:error, blunder, fault\n",
            "\n"
          ]
        }
      ]
    }
  ]
}